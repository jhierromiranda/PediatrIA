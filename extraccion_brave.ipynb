{
 "cells": [
  {
   "cell_type": "markdown",
   "id": "a24c36e1",
   "metadata": {},
   "source": [
    "# EXTRACCIÓN DE INFORMACION DE LA PÁGINA WEB DE LA ASOCIACIÓN ESPAÑOLA DE PEDIATRIA A TRAVÉS DE LA API DE BRAVE"
   ]
  },
  {
   "cell_type": "markdown",
   "id": "69e23056",
   "metadata": {},
   "source": [
    "## Coger el tema indicado como input (de momento lo hacemos a mano)"
   ]
  },
  {
   "cell_type": "code",
   "execution_count": 3,
   "id": "a92a4623",
   "metadata": {},
   "outputs": [],
   "source": [
    "tema_post = 'Consumo de fruta en bebés'"
   ]
  },
  {
   "cell_type": "markdown",
   "id": "2817518d",
   "metadata": {},
   "source": [
    "## Parámetros y keys para la llamada a la API"
   ]
  },
  {
   "cell_type": "code",
   "execution_count": 15,
   "id": "487b5dc9",
   "metadata": {},
   "outputs": [],
   "source": [
    "url = 'https://api.search.brave.com/res/v1/web/search'\n",
    "token = TOKEN\n",
    "query = f'site:aeped.es {tema_post}'\n",
    "\n",
    "# Headers de la consulta\n",
    "headers = {\n",
    "\"Accept\": \"application/json\",\n",
    "\"Accept-Encoding\": \"gzip\",\n",
    "\"x-subscription-token\": token\n",
    "}\n",
    "\n",
    "# Parámetros de la consulta\n",
    "params = {\n",
    "    'q': query,\n",
    "    \"extra_snippets\": \"true\"\n",
    "}"
   ]
  },
  {
   "cell_type": "markdown",
   "id": "1fd452a7",
   "metadata": {},
   "source": [
    "## Llamada a Brave"
   ]
  },
  {
   "cell_type": "code",
   "execution_count": 17,
   "id": "78814abe",
   "metadata": {},
   "outputs": [],
   "source": [
    "import requests\n",
    "\n",
    "response = requests.get(url,  headers = headers, params = params).json()"
   ]
  },
  {
   "cell_type": "markdown",
   "id": "b1b3fadc",
   "metadata": {},
   "source": [
    "## Recolectamos resultados"
   ]
  },
  {
   "cell_type": "code",
   "execution_count": 27,
   "id": "0618b661",
   "metadata": {},
   "outputs": [],
   "source": [
    "if 'results' in response['web'] and len(response['web']['results']) > 0:\n",
    "    llm_text = \"\"\n",
    "    llm_text += f'{query}. '\n",
    "    for j in range(len(response['web']['results'])):\n",
    "        if 'extra_snippets' in response['web']['results'][j]:\n",
    "            llm_text += f\"Descripcion {j+1}: {response['web']['results'][j]['title']} {response['web']['results'][j]['extra_snippets']}. \"\n",
    "        else:\n",
    "            llm_text += f\"Descripcion {j+1}: {response['web']['results'][j]['title']}. \""
   ]
  },
  {
   "cell_type": "markdown",
   "id": "75bf2c14",
   "metadata": {},
   "source": [
    "## Visualización del resultado:"
   ]
  },
  {
   "cell_type": "code",
   "execution_count": 28,
   "id": "1f87b84c",
   "metadata": {},
   "outputs": [
    {
     "data": {
      "text/plain": [
       "'site:aeped.es Consumo de fruta en bebés. Descripcion 1: Consumo de hortalizas de hoja en los niños | EnFamilia [\\'En el lactante se deben evitar algunas hortalizas por su alto contenido en nitratos\\', \\'Teniendo en cuenta las conclusiones de la Autoridad Europea de Seguridad Alimentaria (EFSA) sobre nitratos en hortalizas, los hábitos de consumo y las recomendaciones de la Asociación Española de Pediatría, la Agencia Española de Seguridad Alimentaria y Nutrición (AESAN) ha realizado unas recomendaciones de consumo de hortalizas de hoja con el objetivo de disminuir la exposición a los nitratos en poblaciones vulnerables (bebés y niños de corta edad):\\', \\'Información de la AEP a raíz de la recomendación de la Agencia Española de Seguridad Alimentaria y Nutrición sobre el consumo de determinados pescados ... Lactancia materna. ¿Mi bebé aumenta poco de peso?\\', \\'Así el almacenamiento inadecuado de hortalizas de hoja cocidas a temperatura ambiente, tanto enteras como en puré, puede hacer que los nitratos se conviertan en nitritos. Por ello las verduras cocinadas se deben conservar en el frigorífico si se van a consumir en el mismo día, si no se deben congelar.\\']. Descripcion 2: Alimentación complementaria | EnFamilia [\\'No puede añadirse sal a la AC de los bebés, aunque nos pueda parecer insípida. En menores de dos años, se recomienda evitar los azúcares añadidos y libres en su alimentación. El gusto por los diferentes sabores (dulce, salado, ácido y amargo) se forja desde temprana edad. Si acostumbramos al paladar a sabores ácidos, como algunas frutas, o amargos, como algunas verduras, su consumo será mayor a lo largo de la vida.\\', \\'Se han descrito problemas de alimentación a largo plazo y un consumo escaso de frutas y verduras en niños en los que las texturas grumosas se introdujeron más allá de los 9 meses. Tradicionalmente el método más usado ha sido una introducción progresiva de las texturas, aunque en los últimos años algunas familias se inclinan por otros métodos como el Baby-Led-Weaning (BLW) en el que los alimentos se ofrecen en trozos, no triturados, y es el propio bebé el que los coge con su mano, se los lleva a la boca y decide cuánto come.\\', \\'Web oficial de salud infantil y juvenil de la Asociación Española de Pediatría (AEP) dirigida a padres y familias. Elaborada por pediatras de todas las especialidades.\\', \\'Los niños deben tomar otros alimentos como complemento de la leche a partir de los 6 meses\\']. Descripcion 3: Los niños y el azúcar | EnFamilia [\\'Por ejemplo, si un niño almuerza un yogur bebible y una bolsita de galletas, fácilmente estará tomando en una sola ingesta el doble de lo máximo recomendado en todo el día. Capítulo aparte merecen los zumos de frutas, aunque sean caseros. Al no tener la fibra dietética como la fruta entera, además de tomarse en mayor cantidad, a mayor velocidad y sin el proceso de masticación, los azúcares que se toman con ellos son considerados libres, de los que hay que limitar el consumo para disminuir el riesgo de enfermedades crónicas.\\', \\'Web oficial de salud infantil y juvenil de la Asociación Española de Pediatría (AEP) dirigida a padres y familias. Elaborada por pediatras de todas las especialidades.\\', \\'La comida saludable debe ser la base de la alimentación evitando los azúcares libres\\', \\'Nutrición enteral y parenteral. ¿Qué son y para qué sirven? ... Información de la AEP a raíz de la recomendación de la Agencia Española de Seguridad Alimentaria y Nutrición sobre el consumo de determinados pescados · Lactancia materna. ¿Mi bebé aumenta poco de peso?\\']. Descripcion 4: Alimentación complementaria dirigida por el bebé | EnFamilia [\\'Alrededor de los 6 meses, cuando el bebé se sostiene sentado casi sin apoyo y puede tener en la mano un trozo de alimento del tamaño de un dedo y llevárselo a la boca. Verduras cocinadas al vapor o ligeramente cocidas, asadas o fritas. Pueden estar enteras (judías verdes, ramitos de brócoli o coliflor) o cortadas en trozos del tamaño de un dedo (calabacín, zanahoria, calabaza, patata, berenjena, etc.). Frutas y verduras crudas, cortadas en forma de “palitos”: pera, plátano, mango, ciruela, aguacate, pepino…\\', \\'Por eso se deben evitar los alimentos duros y pequeños como los frutos secos, las aceitunas, la zanahoria o la manzana crudas. Y los niños han de estar acompañados mientras comen. Además, los bebés prematuros o los que tienen alguna dificultad en su desarrollo puede que tarden más en conseguir esas habilidades y necesitarán comer con ayuda durante más tiempo.\\', \\'Los bebés son capaces de alimentarse por sí mismos, probando alimentos adecuados y nutritivos que tengan a su alcance ... La alimentación complementaria dirigida por el bebé (también llamada en inglés baby-led weaning) se refiere a que es el bebé quien dirige el proceso de cambio hacia la alimentación variada.\\', \\'La madre que amamanta sabe cuándo su hijo quiere comer, porque el niño hace gestos de búsqueda. Luego, cuando el niño no quiere más, deja el pecho por sí solo. Los bebés amamantados aprenden a regular la cantidad que comen en función de sus necesidades, lo que les protege frente a la obesidad.\\']. Descripcion 5: Aeped. Descripcion 6: Bebidas sanas para los niños | EnFamilia [\\'No sustituyen a la fruta aunque se hagan con zumo: faltan la mayoría de las vitaminas y la fibra. Tras tomar un zumo, sube el azúcar en la sangre y por tanto disminuye el apetito. Eso aumenta el riesgo de que los niños coman menos de otros alimentos que son más necesarios para su crecimiento. A muchos niños les producen molestias abdominales y diarrea, debido a algunos de los azúcares o edulcorantes que contienen (el sorbitol sobre todo). Su consumo diario parece estar asociado al aumento de riesgo de desarrollar diabetes tipo 2 al cabo de los años.\\', \\'Web oficial de salud infantil y juvenil de la Asociación Española de Pediatría (AEP) dirigida a padres y familias. Elaborada por pediatras de todas las especialidades.\\', \\'Aunque algunos contienen leche, es muy poca cantidad (10%). Los padres deben saber que el pequeño beneficio de esos 33 ml de leche del envase de 300 no compensa la gran cantidad de azúcares que llevan. Es preferible que el niño tome fruta fresca, lavada o pelada. La fruta tiene vitaminas y fibra que resultan muy saludables. O sea, que para beber, ¡el agua es lo mejor!\\', \\'El agua es la mejor bebida natural en todas las edades de la vida, y preferible a los zumos y refrescos\\']. Descripcion 7: Alimentación complementaria en el primer año del bebé | EnFamilia [\\'Las verduras cocinadas se deben guardar en la nevera si se van a consumir en el día o bien congelarlas si son para otro día. No conviene dejarlas a temperatura ambiente. Todas las frutas son buenas. Se puede empezar por una e ir añadiendo nuevas frutas. Aportan vitaminas y fibra. Se puede triturar o aplastar una sola o varias clases diferentes, según el gusto del bebé.\\', \\'Además de la leche, los niños deben tomar otros alimentos antes de llegar al año de edad. Es importante ofrecer una alimentación variada\\', \\'Web oficial de salud infantil y juvenil de la Asociación Española de Pediatría (AEP) dirigida a padres y familias. Elaborada por pediatras de todas las especialidades.\\', \\'Los preparados comerciales con cereales en polvo se pueden disolver en la leche del biberón, preparar en papilla con leche o añadir a otros alimentos. Los bebés que toman el pecho no necesitan tomar cereales con leche artificial. Se pueden añadir a la fruta o a los purés.\\']. Descripcion 8: Alimentación de los lactantes y de los niños pequeños. Descripcion 9: Recomendación de la Academia Americana de Pediatría sobre las estrategias públicas encaminadas a reducir el consumo de bebidas azucaradas en niños y adolescentes | Asociación Española de Pediatría [\\'En Estados Unidos, este consumo supone la principal fuente de ingesta de azúcares añadidos en esta etapa de la vida, con efectos negativos sobre la salud (en especial obesidad, sobre todo en estratos socieconómicos más desfavorecidos). El concepto de bebida azucarada incluye a todas las bebidas con azúcares añadidos, no naturales, como las bebidas refrescantes o zumo de fruta procesado, bebidas energéticas o infusiones o cafés azucarados.\\', \\'Señala que las bebidas dietéticas con menos calorías, los zumos de frutas naturales y leches saborizadas sin azúcares añadidos no se consideran bebidas azucaradas en la mayoría de estudios. La OMS recomienda ingerir menos del 10% de las calorías en forma de estos azúcares añadidos y evitarlos en menores de 2 años. Entre las políticas previstas, se han considerado enfoques que aumenten el precio de las bebidas azucaradas, con un impuesto al consumo, acompañado por la educación de todas las partes interesadas.\\', \\'Recientemente, la Academia Americana de Pediatría, ha publicado un documento sobre las estrategias públicas para reducir el consumo de bebidas azucaradas en niños y adolescentes. En Estados Unidos, este consumo supone la principal fuente de ingesta de azúcares añadidos en esta etapa de la vida, con efectos negativos sobre la salud (en especial obesidad, sobre todo en estratos socieconómicos más desfavorecidos).\\', \\'Inicio › Comités › Comité de Nutrición y Lactancia Materna › Área de nutrición › Noticias › Recomendación de la Academia Americana de Pediatría sobre las estrategias públicas encaminadas a reducir el consumo de bebidas azucaradas en niños y adolescentes\\']. Descripcion 10: Alimentación durante el primer año de vida | EnFamilia [\\'En ello influyen el clima, los alimentos que más se cultivan, las tradiciones, etc. También suele haber unas creencias sobre cuáles son los alimentos más adecuados para los niños pequeños. Se puede empezar ofreciendo con la punta de la cuchara un poquito de la comida que toman los padres ese día. Así el bebé se va acostumbrando. De forma progresiva se aumenta la variedad de los alimentos: más verduras, legumbres y frutas; las carnes, los cereales, el pescado, los huevos.\\', \\'Porque la leche materna, ese alimento tan rico y completo, tiene poca cantidad de hierro y hacia los 6 meses los lactantes han consumido la reserva que se trajeron de la madre. Porque los seres humanos somos omnívoros, es decir, que necesitamos tomar alimentos muy variados para asegurar que ingerimos todos los nutrientes necesarios (vitaminas, minerales, ácidos grasos, aminoácidos…) Porque el bebé debe ir aprendiendo poco a poco nuevas formas de alimentarse (con cuchara, con vaso, con los dedos…) y conociendo nuevos alimentos para integrarse en su familia y en su cultura.\\', \\'La introducción de nuevos alimentos a lo largo del primer año de vida supone un campo de entrenamiento para el desarrollo de la autonomía del niño ... Durante los primeros 6 meses de vida el bebé solamente necesita tomar leche materna. Es un alimento muy completo y contiene todos los nutrientes necesarios para que se desarrolle bien y crezca sano.\\', \\'Es frustrante para los padres preparar una comida y que el bebé no la quiera, simplemente porque todavía no está preparado para la cuchara o para los nuevos sabores. El orden da igual, pero conviene empezar poco a poco, para comprobar que los alimentos le sientan bien. Uno o dos alimentos nuevos cada semana. En cada cultura o región suele haber costumbres diferentes a la hora de comer.\\']. Descripcion 11: La lactancia a partir del año | Asociación Española de Pediatría [\\'Toman pecho unas 6 veces durante el día y suelen hacer entre 2 o 4 tomas nocturnas. Hacen 4 comidas de AC al día: desayuno y merienda fruta, algunas veces con escaso éxito, almuerzo de puré de verduras con carne y cena papilla de cereales. De postre algún yogur y pan y galletas a lo largo del día.\\', \\'Con 5 tomas diarias de pecho un lactante de 1 año tiene lacteos más que suficientes y no precisa en su alimentación ni quesos ni yogures de modo habitual. ES preferible ofrecerle alimentos carnicos o pescado o huevo, hidratos de carbono (pan, pasta, cereales, arroz o patata o legumbres) y verduras y frutas en pequeñas cantidades.\\', \\'En mi caso solo tengo un bb, tiene 14 meses y le doy LM y AC. Tengo que decir que es un tragón, pero también que nunca, nunca, me ha pedido teta. Yo se la ofrezco continuamente. Es decir, ahora con la AC las tomas de un día para que te hagas una idea se desarrollan así. Al levantarse LM, al de una hora, hora y media, le ofrezco un poco de fruta (si bien es verdad que ahora le ofrezco también cereales de mi desayuno, corn flakes)\\', \\'Nacieron en la semana 35, con 2350 gramos cada uno. la niña nunca necesito cuidados pero el niño tuvo pulmón húmedo y estuvo ingresado cuatro días. Lo cierto es que con el niño todo fueron dificultades en cuanto a lactancia se refiere. La niña nunca se separo de mi y pude darle lactancia a demanda o, eso intente, desde el principio. Digo que lo intente porque tenia que dividir mi tiempo com los bebes.\\']. Descripcion 12: Alimentos en la dieta de los bebés y riesgo de alergia | EnFamilia [\\'Retrasar la introducción de determinados alimentos en la dieta de los bebés puede aumentar el riesgo de alergia\\', \\'La alergia es una reacción anormal de nuestro cuerpo al entrar en contacto con determinadas sustancias (alérgenos), que en otras personas no producen ningún problema. Los alimentos implicados con más frecuencia son la leche, el huevo y los frutos secos.\\', \\'Durante mucho tiempo la mayoría de los profesionales han recomendado retrasar la introducción de determinados alimentos, como el huevo o el cacahuete, para intentar prevenir la alergia. El cacahuete es una legumbre que, por sus propiedades, se considera un fruto seco.\\', \\'A partir de esta edad, introducir precozmente alimentos potencialmente alergénicos puede reducir la alergia a los mismos. Hay que tener en cuenta que los frutos secos, antes de los 3 años de edad, no se deben administrar enteros, sino molidos, por el riesgo de atragantamiento\\']. Descripcion 13: ¿Cuándo dar al bebé otros alimentos, además del pecho? | EnFamilia [\\'No es necesario introducir “leche artificial” para preparar las papillas de cereales industriales en un bebé amamantado. Algunas alternativas son prepararlos con leche materna extraída, con las verduras o con las frutas.\\', \\'La introducción de nuevos alimentos en el niño lactante se debe hacer con flexibilidad, respetando las costumbres de las familias\\', \\'Entre los 6 y 12 meses se pueden introducir prácticamente todos los alimentos, salvo los pequeños y de consistencia dura (como los frutos secos, trozos de zanahoria cruda, uvas), por el riesgo de atragantamiento. El orden es totalmente indiferente. No es necesario ceñirse a un estricto calendario de introducción que puede provocar frustración y confusión a los padres.\\', \\'La leche (preferiblemente materna) sigue siendo la principal fuente nutritiva durante todo el primer año de vida y una fuente importante de nutrientes en el segundo año y después. Sin embargo, si no se suplementa a partir de los 6 meses se podría afectar el crecimiento y desarrollo neurológico del bebé.\\']. Descripcion 14: sobrepeso de bebé y LM | Asociación Española de Pediatría [\\'Con los principios que tenemos de lactancia materna, entiendo que no, siguen siendo mejores, y más importantes, los nutrientes de la leche materna que los de la fruta. El bebé tiene 4 meses pesa 10 kg y mide 67,5cm.\\', \\'Sabemos que la LM previene la obesidad, y que los bebés amamantados tienen curvas de peso distintas, que estan un poco por debajo de las que se usan para todos los niños. Tenía entendido, pero no tengo bibliografía que los niños alimentados con leche materna que son obesos no aumenta el número de adipocitos, sino que aumenta el tamaño de los adipocitos, por ello no tiene secuelas ese aumento de peso en la lactancia.\\', \\'No hay motivos para adelantar de los 6 meses la alimentación complementaria en niños con LM exclusiva, a no ser que la madre tenga problemas muy específicos de salud, o tenga que tomar medicación muy concreta. Para decir que un bebé de 4 meses tienel \"sobrepeso\", hay que ser muy cautos, ya que no es cuestión de un punto en una gráfica a una edad concreta.\\', \\'Con las gráficas de crecimiento de la OMS (http://www.who.int/childgrowth/mgrs/es/) como tu bien dices, se ve el crecimiento MEDIO de los lactantes alimentados con LM que es el patrón oro por el que tenemos que ver el crecimiento de los bebés. Pero tenemos que tener en cuenta varios factore a la hora de \"interpretar\" una gráfica: crecimiento del niño desde el nacimiento, factores genéticos (peso y talla de los padres), alimentación (en este caso es la ideal para un niño de 4 meses), y solo tenemos que \"preocuparnos\" si el peso se mantiene, desciende o se incrementa durante varias semanas seguidas.\\']. Descripcion 15: Alimentación en el segundo año de vida | EnFamilia [\\'Web oficial de salud infantil y juvenil de la Asociación Española de Pediatría (AEP) dirigida a padres y familias. Elaborada por pediatras de todas las especialidades.\\', \\'La leche materna mantiene sus cualidades nutritivas y sigue aportando defensas (y consuelo) por eso, si el bebé aún toma el pecho, puede continuar haciéndolo todas las veces que quieran madre e hijo. Puede empezar a tomar leche de vaca entera esterilizada o pasteurizada, la misma que tome el resto de la familia. No es necesario que tome leche “de crecimiento”. El biberón se debe abandonar como muy tarde a los 2 años. Bastan 2-3 porciones de lácteos al día. Incluye los quesos y yogures. Los alimentos vegetales son muy importantes: las frutas, verduras o legumbres se deben tomar a diario.\\', \\'Tomar un lácteo como postre del almuerzo del mediodía. El calcio de la leche dificulta la absorción de hierro. Es mejor tomar un poco de fruta rica en vitamina C.\\', \\'Conviene permitir que explore la comida con las manos. No hay que reñir si se mancha o derrama comida. A esta edad bebe en vaso y comienza a utilizar los cubiertos.\\']. Descripcion 16: Formulas de Nutrición Enteral en Pediatría. Descripcion 17: Continuum: Lactante de cinco meses con eritema facial tras ingesta de fruta [\\'No coincide con la toma de medicamentos ni otros desencadenantes y le ocurre con cualquier fruta. ... Figura 1. Eritema en el área del nervio aurículotemporal que aparece 10 segundos después de ingerir frutas.\\', \\'Cómo citar: Ayechu Diaz A, Mendizábal Díez M. Lactante de cinco meses con eritema facial tras ingesta de fruta. En Imagen de la semana. Continuum 2016.\\', \\'[en línea] [consultado el 12.05.2025]. Disponible en http://continuum.aeped.es ... Lactante de cinco meses que de forma inmediata a la ingesta de frutas presenta eritema en la región aurículotemporal bilateral (Figuras 1 y 2), que cede en varios minutos. No asocia síntomas respiratorios ni digestivos.\\', \\'No obstante, cada artículo lleva asociado un foro de discusión, para que los alumnos que lo deseen puedan hacer comentarios en relación a los contenidos del mismo, y recabar las opiniones, las experiencias y los conocimientos compartidos por el resto de discentes.\\']. Descripcion 18: Introducir precozmente en la dieta de los niños alimentos potencialmente alergénicos puede prevenir la alergia alimentaria | Asociación Española de Pediatría [\\'“En el huevo, por ejemplo, encontramos el ovomucoide y la ovoalbúmina; es muy importante saber a cuál de estas dos proteínas se tiene alergia para saber si se puede consumir el alimento en alguna forma o no. Un niño con alergia al ovomucoide seguramente no tolere el huevo en ningún caso porque esta proteína es resistente al calor. Sin embargo, un niño con alergia a la ovoalbúmina puede comer huevo si está cocido o en horneados con harinas. Siempre deberemos comprobarlo, previamente, con una exposición controlada en el hospital”, apunta la doctora Valdesoiro Navarrete. En los frutos secos, por ejemplo, hay proteínas compartidas por todos los frutos secos y otras que son propias de uno en particular; saber exactamente cuál es la que produce reacción y en qué frutos está presente, hará que no se tenga que evitar el consumo de todos ellos.\\']. Descripcion 19: ¿Tendrá mi hijo problemas de colesterol? | EnFamilia [\\'¿Hay que vigilar el colesterol en los niños igual que en los adultos? ¿A todos? ¿Es necesario usar medicinas si está alto?\\', \\'Puede ser conveniente hacer cambios en la alimentación y la actividad física, mejorando el estilo de vida de toda la familia, que es la clave fundamental para mantener la salud de niños y mayores. Consumir diariamente frutas, verduras, cereales preferiblemente integrales y legumbres.\\', \\'Se recomiendan al menos 5 raciones diarias de frutas y verduras. Disminuir la carne rica en grasa, sustituyéndola por carne magra y preferiblemente por aves (sin piel) y conejo. Evitar vísceras (higaditos, corazón, riñones, sesos...), embutidos, alimentos precocinados y bollería industrial. Aumentar el consumo de pescado.\\', \\'En vez de fritos, utilizar formas de cocinado con pocas grasas como hervir, asar al horno, al vapor, a la plancha y a la brasa. Disminuir el consumo de bebidas azucaradas y el aporte de sal.\\']. Descripcion 20: Alimentación en la etapa escolar (de los 6 a los 11 años) | EnFamilia [\\'Es un buen momento para afianzar los buenos hábitos alimentarios y hacer que las comidas sean pausas cotidianas para la comunicación familiar\\', \\'El recreo es para jugar, o sea, mejor algo que se coma rápido. Un bocadillo o una fruta. Y agua para beber.\\', \\'Un desayuno completo debe incluir lácteos, pan o cereales y fruta.\\', \\'Un bocadillo crujiente. Un vaso de leche o un yogur. O fruta.\\']. '"
      ]
     },
     "execution_count": 28,
     "metadata": {},
     "output_type": "execute_result"
    }
   ],
   "source": [
    "llm_text"
   ]
  }
 ],
 "metadata": {
  "kernelspec": {
   "display_name": "dl_lab",
   "language": "python",
   "name": "python3"
  },
  "language_info": {
   "codemirror_mode": {
    "name": "ipython",
    "version": 3
   },
   "file_extension": ".py",
   "mimetype": "text/x-python",
   "name": "python",
   "nbconvert_exporter": "python",
   "pygments_lexer": "ipython3",
   "version": "3.12.9"
  }
 },
 "nbformat": 4,
 "nbformat_minor": 5
}
