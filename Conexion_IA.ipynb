{
 "cells": [
  {
   "cell_type": "code",
   "execution_count": 2,
   "id": "1f15df71",
   "metadata": {},
   "outputs": [],
   "source": [
    "import google.generativeai as genai\n",
    "from openai import OpenAI\n",
    "import os\n",
    "import ast"
   ]
  },
  {
   "cell_type": "markdown",
   "id": "2b3a93b1",
   "metadata": {},
   "source": [
    "### Conexión con GeminAI"
   ]
  },
  {
   "cell_type": "markdown",
   "id": "38744b52",
   "metadata": {},
   "source": [
    "Ejemplo simple con lo de los álbumes"
   ]
  },
  {
   "cell_type": "code",
   "execution_count": 2,
   "id": "df8aa066",
   "metadata": {},
   "outputs": [],
   "source": [
    "genai.configure(api_key=\"API_KEY\")\n",
    "\n",
    "model = genai.GenerativeModel('gemini-1.5-flash')\n",
    "\n",
    "def obtener_datos_album(artista, album):\n",
    "    prompt = f\"Quiero que actúes como un experto en música. Necesito la información del álbum '{album}' del {artista} que te pongo a continuación. \" \\\n",
    "             \"Dame la lista de canciones, fecha de lanzamiento, duración total del álbum y la discográfica que lo publicó. Quiero que la salida sea en forma de diccionario de python llamado album_info.\" \n",
    "    \n",
    "    response = model.generate_content(prompt)\n",
    "    \n",
    "    return response.text"
   ]
  },
  {
   "cell_type": "markdown",
   "id": "f30bb854",
   "metadata": {},
   "source": [
    "### Conexion con ChatGPT"
   ]
  },
  {
   "cell_type": "code",
   "execution_count": 4,
   "id": "f691619d",
   "metadata": {},
   "outputs": [
    {
     "name": "stdout",
     "output_type": "stream",
     "text": [
      "¡Claro! Aquí va uno:\n",
      "\n",
      "¿Por qué los pájaros no usan Facebook?\n",
      "\n",
      "Porque ya tienen Twitter. 😄\n"
     ]
    }
   ],
   "source": [
    "client = OpenAI(api_key = os.getenv(\"ChatGPT_KEY\"))\n",
    "\n",
    "response = client.chat.completions.create(\n",
    "  model=\"gpt-4o-mini\",\n",
    "  messages=[{\"role\": \"user\", \"content\": \"Hola, dame un chiste corto\"}]\n",
    ")\n",
    "\n",
    "print(response.choices[0].message.content)"
   ]
  }
 ],
 "metadata": {
  "kernelspec": {
   "display_name": "jorge",
   "language": "python",
   "name": "python3"
  },
  "language_info": {
   "codemirror_mode": {
    "name": "ipython",
    "version": 3
   },
   "file_extension": ".py",
   "mimetype": "text/x-python",
   "name": "python",
   "nbconvert_exporter": "python",
   "pygments_lexer": "ipython3",
   "version": "3.11.5"
  }
 },
 "nbformat": 4,
 "nbformat_minor": 5
}
