{
 "cells": [
  {
   "cell_type": "code",
   "execution_count": 1,
   "id": "1f15df71",
   "metadata": {},
   "outputs": [
    {
     "name": "stderr",
     "output_type": "stream",
     "text": [
      "c:\\Users\\jorge\\anaconda3\\envs\\pediatria\\Lib\\site-packages\\tqdm\\auto.py:21: TqdmWarning: IProgress not found. Please update jupyter and ipywidgets. See https://ipywidgets.readthedocs.io/en/stable/user_install.html\n",
      "  from .autonotebook import tqdm as notebook_tqdm\n"
     ]
    }
   ],
   "source": [
    "import google.generativeai as genai\n",
    "from openai import OpenAI\n",
    "import os\n",
    "import ast"
   ]
  },
  {
   "cell_type": "markdown",
   "id": "2b3a93b1",
   "metadata": {},
   "source": [
    "### Conexión con GeminAI"
   ]
  },
  {
   "cell_type": "markdown",
   "id": "38744b52",
   "metadata": {},
   "source": [
    "Ejemplo simple con lo de los álbumes"
   ]
  },
  {
   "cell_type": "code",
   "execution_count": null,
   "id": "df8aa066",
   "metadata": {},
   "outputs": [
    {
     "name": "stdout",
     "output_type": "stream",
     "text": [
      "Aquí tienes el diccionario de Python `album_info` con la información solicitada del álbum \"Abbey Road\" de The Beatles:\n",
      "\n",
      "```python\n",
      "album_info = {\n",
      "    \"titulo\": \"Abbey Road\",\n",
      "    \"artista\": \"The Beatles\",\n",
      "    \"lista_de_canciones\": [\n",
      "        \"Come Together\",\n",
      "        \"Something\",\n",
      "        \"Maxwell's Silver Hammer\",\n",
      "        \"Oh! Darling\",\n",
      "        \"Octopus's Garden\",\n",
      "        \"I Want You (She's So Heavy)\",\n",
      "        \"Here Comes the Sun\",\n",
      "        \"Because\",\n",
      "        \"You Never Give Me Your Money\",\n",
      "        \"Sun King\",\n",
      "        \"Mean Mr. Mustard\",\n",
      "        \"Polythene Pam\",\n",
      "        \"She Came in Through the Bathroom Window\",\n",
      "        \"Golden Slumbers\",\n",
      "        \"Carry That Weight\",\n",
      "        \"The End\",\n",
      "        \"Her Majesty\"\n",
      "    ],\n",
      "    \"fecha_de_lanzamiento\": \"26 de septiembre de 1969\",\n",
      "    \"duracion_total\": \"42:53\",  # Duración aproximada, puede variar ligeramente según la edición.\n",
      "    \"discografica\": \"Apple Records\"\n",
      "}\n",
      "\n",
      "print(album_info)\n",
      "```\n",
      "\n"
     ]
    }
   ],
   "source": [
    "genai.configure(api_key = os.getenv(\"GeminAI_KEY\"))\n",
    "\n",
    "model = genai.GenerativeModel('gemini-1.5-flash')\n",
    "\n",
    "def obtener_datos_album(artista, album):\n",
    "    prompt = f\"Quiero que actúes como un experto en música. Necesito la información del álbum '{album}' del {artista} que te pongo a continuación. \" \\\n",
    "             \"Dame la lista de canciones, fecha de lanzamiento, duración total del álbum y la discográfica que lo publicó. Quiero que la salida sea en forma de diccionario de python llamado album_info.\" \n",
    "    \n",
    "    response = model.generate_content(prompt)\n",
    "    \n",
    "    return response.text\n",
    "\n",
    "print(obtener_datos_album(\"The Beatles\", \"Abbey Road\"))"
   ]
  },
  {
   "cell_type": "markdown",
   "id": "f30bb854",
   "metadata": {},
   "source": [
    "### Conexion con ChatGPT"
   ]
  },
  {
   "cell_type": "code",
   "execution_count": 5,
   "id": "f691619d",
   "metadata": {},
   "outputs": [
    {
     "name": "stdout",
     "output_type": "stream",
     "text": [
      "¡Claro! Aquí tienes uno:\n",
      "\n",
      "¿Por qué los pájaros no usan Facebook?\n",
      "\n",
      "¡Porque ya tienen Twitter! 🐦\n"
     ]
    }
   ],
   "source": [
    "client = OpenAI(api_key = os.getenv(\"ChatGPT_KEY\"))\n",
    "\n",
    "response = client.chat.completions.create(\n",
    "  model=\"gpt-4o-mini\",\n",
    "  messages=[{\"role\": \"user\", \"content\": \"Hola, dame un chiste corto\"}]\n",
    ")\n",
    "\n",
    "print(response.choices[0].message.content)"
   ]
  }
 ],
 "metadata": {
  "kernelspec": {
   "display_name": "pediatria",
   "language": "python",
   "name": "python3"
  },
  "language_info": {
   "codemirror_mode": {
    "name": "ipython",
    "version": 3
   },
   "file_extension": ".py",
   "mimetype": "text/x-python",
   "name": "python",
   "nbconvert_exporter": "python",
   "pygments_lexer": "ipython3",
   "version": "3.11.4"
  }
 },
 "nbformat": 4,
 "nbformat_minor": 5
}
